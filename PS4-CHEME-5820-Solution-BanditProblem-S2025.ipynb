{
 "cells": [
  {
   "cell_type": "markdown",
   "id": "ad875215",
   "metadata": {},
   "source": [
    "# PS4: Let's build a Personal Shopper\n",
    "In this problem set, we'll build a simple personal shopper program that helps users find items they might want to buy based on their preferences. The program will allow users to input their preferences and then suggest items from a predefined list that maximize their satisfaction (measured using a utility function) based on those preferences, subjet to a budget constraint."
   ]
  },
  {
   "cell_type": "markdown",
   "id": "458ab823",
   "metadata": {},
   "source": [
    "## Task 1: Setup, Data, and Prerequisites\n",
    "We set up the computational environment by including the `Include.jl` file, loading any needed resources, such as sample datasets, and setting up any required constants. \n",
    "* The `Include.jl` file also loads external packages, various functions that we will use in the exercise, and custom types to model the components of our problem. It checks for a `Manifest.toml` file; if it finds one, packages are loaded. Other packages are downloaded and then loaded."
   ]
  },
  {
   "cell_type": "code",
   "execution_count": 49,
   "id": "5bf46373",
   "metadata": {},
   "outputs": [],
   "source": [
    "include(\"Include.jl\"); # This will load necessary packages and functions"
   ]
  },
  {
   "cell_type": "markdown",
   "id": "461fa67d",
   "metadata": {},
   "source": [
    "First, let's build the `world(...)` function. \n",
    "* The `world(...)` function takes the $m$-dimensional action vector `a::Array{Int64,1}` where the elements of `a::Array{Int64,1}` are the indexes of the goods chosen from each categories, the amount of each good selected from each category from our agent is in the `n::Dict{Int,Array{Float64,1}}` dictionary, and returns the reward (utility) $r\\sim\\mathcal{D}_{a}$. associated with selecting this action. "
   ]
  },
  {
   "cell_type": "code",
   "execution_count": 50,
   "id": "e3c90e73",
   "metadata": {},
   "outputs": [],
   "source": [
    "function world(a::Vector{Int64}, n::Array{Float64,1}, context::MyBanditConsumerContextModel)::Float64\n",
    "\n",
    "    # initialize -\n",
    "    γ = context.γ; # consumer preferences (unknown to bandits)\n",
    "    σ = context.σ; # noise in utility calculation (unknown to bandits)\n",
    "    B = context.B; # max budget (unknown to bandits)\n",
    "    C = context.C; # unit costs of goods (unknown to bandits)\n",
    "    λ = context.λ; # sensitivity to the budget\n",
    "    Z = context.Z; # noise model\n",
    "    number_of_goods = context.m; # number of categories\n",
    "\n",
    "    # compute the reward for this choice -\n",
    "    Ū = 1.0;\n",
    "    BC = 0.0;\n",
    "    for i ∈ 1:number_of_goods\n",
    "        \n",
    "        # what action is being taken in this category?\n",
    "        aᵢ = a[i]; # this is which good to purchase in category i -\n",
    "        if (aᵢ == 0)\n",
    "            # if aᵢ is 0, it means no good was chosen in this category, \n",
    "            # hence we should skip this category in the utility calculation\n",
    "            continue; \n",
    "        end\n",
    "\n",
    "        nᵢ = n[i]; # this is the quantity purchased of good aᵢ in category i\n",
    "        Cᵢ = C[i]; # cost of chosen good in category i\n",
    "        γᵢ = γ[i]; # preference of good in category i\n",
    "        σᵢ = σ[i]; # standard dev for good i\n",
    "   \n",
    "        # update the utility -\n",
    "        Ū += γᵢ*(nᵢ + σᵢ*rand(Z)); # compute the utility for this good, with noise\n",
    "        \n",
    "        # constraints and noise \n",
    "        BC += nᵢ*Cᵢ; # compute the budget constraint -\n",
    "    end\n",
    "\n",
    "    # compute the budget constraint violation -\n",
    "    U = Ū - λ*max(0.0, (BC - B))^2; # use a penalty method to capture budget constraint\n",
    "\n",
    "    # return the reward -\n",
    "    return U;\n",
    "end;"
   ]
  },
  {
   "cell_type": "markdown",
   "id": "501f330d",
   "metadata": {},
   "source": [
    "Next, let's build an algorithm model that we'll use to reason about the world, i.e., a model of our agent's decision making process.  we've modified the $\\epsilon$-greedy algorithm to work with our contextual category-based bandit problem. The algorithm will now take into account the context provided by [the `MyBanditConsumerContextModel` model](src/Types.jl) and category-based actions when selecting actions.\n",
    "\n",
    "#### Epsilon-Greedy with Categories Algorithm\n",
    "In the _epsilon-greedy_ algorithm, the agent chooses the best arm with probability $1-\\epsilon$ and a random arm with probability $\\epsilon$. This approach balances exploration and exploitation by allowing the agent to explore different arms while also exploiting the best-known arm based on past rewards. The parameter $\\epsilon$ controls the exploration rate: a higher value means more exploration, while a lower value means more exploitation.\n",
    "\n",
    "* While [Slivkins](https://arxiv.org/abs/1904.07272) doesn't give a reference for the $\\epsilon$-greedy algorithm, other sources point to (at least in part) to [Thompson and Thompson sampling, proposed in 1933 in the context of drug trials](https://arxiv.org/abs/1707.02038). Thus, the $\\epsilon$-greedy algorithm, considered a classic algorithm in the multi-armed bandit literature. The algorithm is simple yet effective, making it a popular choice for many practical applications.\n",
    "\n",
    "The agent has $K$ arms (choices), $\\mathcal{A} = \\left\\{1,2,\\dots,K\\right\\}$, where each arm encosed a _binary vector_ which describes the _basket_ of goods chosen by the agent, \n",
    "and the total number of rounds is $T$. The agent uses the following algorithm to choose which arms to pull (which action to take) during each round:\n",
    "\n",
    "For $t = 1,2,\\dots,T$:\n",
    "1. _Initialize_: Roll a random number $p\\in\\left[0,1\\right]$ and compute a threshold $\\epsilon_{t}={t^{-1/3}}\\cdot\\left(K\\cdot\\log(t)\\right)^{1/3}$.\n",
    "2. _Exploration_: If $p\\leq\\epsilon_{t}$, choose a random $a_{t}\\in\\mathcal{A}$. Execute the action $a_{t}$ and receive a reward $r_{t}$ from the _adversary_ (nature). \n",
    "3. _Exploitation_: Else if $p>\\epsilon_{t}$, choose action $a^{\\star}$, the action with the highest average reward so far. Execute the action $a^{\\star}_{t}$ and recieve a reward $r_{t}$ from the _adversary_ (nature).\n",
    "4. Update list of rewards for $a_{t}\\in\\mathcal{A}$"
   ]
  },
  {
   "cell_type": "markdown",
   "id": "716c2780",
   "metadata": {},
   "source": [
    "Let's build [a `MyEpsilonGreedyAlgorithmModel` instance](src/Types.jl) which encapsulates the $\\epsilon$-greedy logic that has been modified to work with categories. \n",
    "* __TODO__: To contstruct this type, we [use a custom `build(...)` method](src/Factory.jl) that takes the arms `K::Int64` and the items `n::Array{Float64,1}` array and returns an algorithmn model in the `algorithm::MyEpsilonGreedyAlgorithmModel` variable. In this simulationm, let `K = 12` and `n` to be array of ones."
   ]
  },
  {
   "cell_type": "code",
   "execution_count": 51,
   "id": "94660951",
   "metadata": {},
   "outputs": [],
   "source": [
    "algorithm = let\n",
    "\n",
    "    # initialize -\n",
    "    algorithm = nothing; # initialize the algorithm variable to nothing, this variable will be used to store the algorithm model\n",
    "    K = 12; # suppose we have 12 possible goods that we can choose from\n",
    "    n = ones(Float64, K); # for now, let's assume that we purchase a single unit of each good in each category (we can change this later)\n",
    "    \n",
    "    # TDOD: Build an algorithm model by by uncommenting the code block below\n",
    "    algorithm = build(MyEpsilonGreedyAlgorithmModel, (\n",
    "        K = K, # arms \n",
    "        n = n, # items dictionary\n",
    "    ));\n",
    "\n",
    "    # return the algorithm -\n",
    "    algorithm;\n",
    "end;"
   ]
  },
  {
   "cell_type": "markdown",
   "id": "e34dc0e9",
   "metadata": {},
   "source": [
    "__Constants__: Set constants we'll use in the subsequent tasks. See the comment beside the value for a description of what it is, its permissible values, etc."
   ]
  },
  {
   "cell_type": "code",
   "execution_count": 52,
   "id": "a6c80c38",
   "metadata": {},
   "outputs": [],
   "source": [
    "T = 2^14; # number of rounds for each decision task\n",
    "B = 100.0; # Budget for shopper"
   ]
  },
  {
   "cell_type": "markdown",
   "id": "bb84ef94",
   "metadata": {},
   "source": [
    "## Task 2: Build the Context Models\n",
    "In this task, we will build several models of the contextual information that will be used to inform the agent's recomendations. These models, which are [instances of the `MyBanditConsumerContextModel` type](src/Types.jl) hold various parameters that will be used in the `world(...)` funtion that we developed above. \n",
    "* _Hmmm. Why use a different model for contextual data_? We use a separate model for the contextual information because it allows us to encapsulate all the relevant parameters and settings in one place. This makes it easier to manage and modify the parameters as needed, without having to change the core logic of the `world(...)` function. Additionally, it allows us to easily pass around context models to other parts of our codebase that may need it.\n",
    "* _What does this represent_? The contextual information in the `MyBanditConsumerContextModel` represents the parameters that will be used to score the utility of the goods chosen by the agent. This includes user sentiment parameters, budget constraints, and other relevant information that will help the agent make informed decisions about which goods to recommend.\n",
    "\n",
    "Let's build the following contextual models:\n",
    "* __Case 1: Unlimited budget, uniform positive sentiment__: This model assumes that the consumer has an unlimited budget ($\\lambda = 0$) and uniform positive sentiment across all goods. This means that the consumer is equally likely to choose any good in each category, and there are no constraints on the amount of each good that can be selected. \n",
    "* __Case 2: Limited budget, positive sentiment__: This model assumes that the consumer has a limited budget $\\lambda>0$ and positive sentiment (but not neccesarily uniform) towards goods. This means that the consumer is more likely to choose goods that they have a positive sentiment towards, and there are constraints on the amount of each good that can be selected based on the budget.\n",
    "* __Case 3: Limited budget, mixed sentiment__: This model assumes that the consumer has a limited budget $\\lambda>0$ and mixed sentiment towards goods. This means that some goods may have positive sentiment (i.e., they are preferred), while others may have negative sentiment (i.e., they are not preferred). The agent must balance the positive and negative sentiments when making recommendations, and there are constraints on the amount of each good that can be selected based on the budget."
   ]
  },
  {
   "cell_type": "markdown",
   "id": "515770ff",
   "metadata": {},
   "source": [
    "Let's start with __case 1__. We save this case in the `simple_no_budget_context::MyBanditConsumerContextModel` variable."
   ]
  },
  {
   "cell_type": "code",
   "execution_count": 53,
   "id": "28bf1f19",
   "metadata": {},
   "outputs": [],
   "source": [
    "simple_no_budget_context = let\n",
    "\n",
    "    # initialize -\n",
    "    context = nothing; # initialize the context variable to nothing, this variable will be used to store the context model\n",
    "    K = algorithm.K; # number of arms in the algorithm, this should match the number of goods in the context model\n",
    "    γ = Array{Float64,1}(undef, K); # consumer preferences (unknown to bandits)\n",
    "    σ = Array{Float64,1}(undef, K); # noise in utility calculation (unknown to bandits)\n",
    "    C = Array{Float64,1}(undef, K); # unit costs of goods (unknown to bandits)\n",
    "    Z = Normal(0,1); # use a standard normal distribution for the noise model, this can be changed to any distribution as required\n",
    "    λ = 0.0; # sensitivity to the budget constraint λ ≥ 0. If zero, then no penalty for budget constraint violation.\n",
    "\n",
    "    # set the parameters -\n",
    "    # preferences: If all γ[i] are equal to 1.0, then the bandit will be indifferent to the goods in each category.\n",
    "    for i ∈ 1:K\n",
    "        # Assigning values for γ, σ, and C for each good in the context model\n",
    "        # For simplicity, let's assume we have K goods with equal preference\n",
    "        # This can be customized as per the requirement of the simulation\n",
    "        γ[i] = 1.0; # uniform preference for all goods\n",
    "        σ[i] = 0.1; # uniform uncertainty for all goods, this can be adjusted based on the specific needs of the simulation\n",
    "        C[i] = 10.0 + 10.0 * (i - 1); # linearly increasing costs for goods, this can be customized as per the requirement\n",
    "    end\n",
    "\n",
    "    # build a context model with the reqired parameters -\n",
    "    context = build(MyBanditConsumerContextModel, (\n",
    "        γ = γ, # consumer preferences (unknown to bandits)\n",
    "        σ = σ, # noise in utility calculation (unknown to bandits)\n",
    "        B = B, # max budget (unknown to bandits)\n",
    "        C = C, # unit costs of goods (unknown to bandits)\n",
    "        λ = λ, # sensitivity to the budget\n",
    "        Z = Z, # noise model\n",
    "        m = K, # number of categories (this should match the number of arms in the algorithm)\n",
    "    )); # build the context\n",
    "\n",
    "    # return \n",
    "    context;\n",
    "end;"
   ]
  },
  {
   "cell_type": "markdown",
   "id": "c8e9887a",
   "metadata": {},
   "source": [
    "Next, build __case 2__. In this scenario, the consumer has a limited budget and positive sentiment. We set a budget constraint and define the user sentiment parameters to reflect positive sentiment towards all goods. We save this case in the `simple_with_budget_context::MyBanditConsumerContextModel` variable.`"
   ]
  },
  {
   "cell_type": "code",
   "execution_count": 54,
   "id": "7d7424be",
   "metadata": {},
   "outputs": [],
   "source": [
    "simple_with_budget_context = let\n",
    "\n",
    "    # initialize -\n",
    "    context = nothing; # initialize the context variable to nothing, this variable will be used to store the context model\n",
    "    K = algorithm.K; # number of arms in the algorithm, this should match the number of goods in the context model\n",
    "    γ = Array{Float64,1}(undef, K); # consumer preferences (unknown to bandits)\n",
    "    σ = Array{Float64,1}(undef, K); # noise in utility calculation (unknown to bandits)\n",
    "    C = Array{Float64,1}(undef, K); # unit costs of goods (unknown to bandits)\n",
    "    Z = Normal(0,1); # use a standard normal distribution for the noise model, this can be changed to any distribution as required\n",
    "    λ = 10000.0; # sensitivity to the budget constraint λ ≥ 0. If zero, then no penalty for budget constraint violation.\n",
    "\n",
    "    # set the parameters -\n",
    "    # preferences: If all γ[i] are equal to 1.0, then the bandit will be indifferent to the goods in each category.\n",
    "    for i ∈ 1:K\n",
    "        # Assigning values for γ, σ, and C for each good in the context model\n",
    "        # For simplicity, let's assume we have K goods with equal preference\n",
    "        # This can be customized as per the requirement of the simulation\n",
    "        γ[i] = 1.0; # uniform preference for all goods\n",
    "        σ[i] = 0.1; # uniform uncertainty for all goods, this can be adjusted based on the specific needs of the simulation\n",
    "        C[i] = 10.0 + 10.0 * (i - 1); # linearly increasing costs for goods, this can be customized as per the requirement\n",
    "    end\n",
    "\n",
    "    # build a context model with the reqired parameters -\n",
    "    context = build(MyBanditConsumerContextModel, (\n",
    "        γ = γ, # consumer preferences (unknown to bandits)\n",
    "        σ = σ, # noise in utility calculation (unknown to bandits)\n",
    "        B = B, # max budget (unknown to bandits)\n",
    "        C = C, # unit costs of goods (unknown to bandits)\n",
    "        λ = λ, # sensitivity to the budget\n",
    "        Z = Z, # noise model\n",
    "        m = K, # number of categories (this should match the number of arms in the algorithm)\n",
    "    )); # build the context\n",
    "\n",
    "    # return \n",
    "    context;\n",
    "end;"
   ]
  },
  {
   "cell_type": "markdown",
   "id": "1f8aaa17",
   "metadata": {},
   "source": [
    "Finally, build __case 3__. In this scenario, the consumer has a limited budget and mixed sentiment toward the selection of possible goods. We define both positive and negative user sentiment parameters to reflect the mixed sentiment towards goods, and set $\\lambda > 0$.  We save this case in the `mixed_with_budget_context::MyBanditConsumerContextModel` variable."
   ]
  },
  {
   "cell_type": "code",
   "execution_count": 55,
   "id": "024b1186",
   "metadata": {},
   "outputs": [],
   "source": [
    "mixed_with_budget_context = let\n",
    "\n",
    "    # initialize -\n",
    "    context = nothing; # initialize the context variable to nothing, this variable will be used to store the context model\n",
    "    K = algorithm.K; # number of arms in the algorithm, this should match the number of goods in the context model\n",
    "    γ = Array{Float64,1}(undef, K); # consumer preferences (unknown to bandits)\n",
    "    σ = Array{Float64,1}(undef, K); # noise in utility calculation (unknown to bandits)\n",
    "    C = Array{Float64,1}(undef, K); # unit costs of goods (unknown to bandits)\n",
    "    Z = Normal(0,1); # use a standard normal distribution for the noise model, this can be changed to any distribution as required\n",
    "    λ = 10000.0; # sensitivity to the budget constraint λ ≥ 0. If zero, then no penalty for budget constraint violation.\n",
    "\n",
    "    # set the parameters -\n",
    "    # preferences: If all γ[i] are equal to 1.0, then the bandit will be indifferent to the goods in each category.\n",
    "    for i ∈ 1:K\n",
    "        # Assigning values for γ, σ, and C for each good in the context model\n",
    "        # For simplicity, let's assume we have K goods with equal preference\n",
    "        # This can be customized as per the requirement of the simulation\n",
    "        \n",
    "        if (iseven(i) == true)\n",
    "            γ[i] = 1.0; # positive preference for even indexed goods\n",
    "        else\n",
    "            γ[i] = -10.0; # negative preference for odd indexed goods\n",
    "        end\n",
    "        \n",
    "        σ[i] = 0.1; # uniform uncertainty for all goods, this can be adjusted based on the specific needs of the simulation\n",
    "        C[i] = 10.0 + 10.0 * (i - 1); # linearly increasing costs for goods, this can be customized as per the requirement\n",
    "    end\n",
    "\n",
    "    # change some preferences to create a mixed context \n",
    "\n",
    "\n",
    "    # build a context model with the reqired parameters -\n",
    "    context = build(MyBanditConsumerContextModel, (\n",
    "        γ = γ, # consumer preferences (unknown to bandits)\n",
    "        σ = σ, # noise in utility calculation (unknown to bandits)\n",
    "        B = B, # max budget (unknown to bandits)\n",
    "        C = C, # unit costs of goods (unknown to bandits)\n",
    "        λ = λ, # sensitivity to the budget\n",
    "        Z = Z, # noise model\n",
    "        m = K, # number of categories (this should match the number of arms in the algorithm)\n",
    "    )); # build the context\n",
    "\n",
    "    # return \n",
    "    context;\n",
    "end;"
   ]
  },
  {
   "cell_type": "markdown",
   "id": "50ddac09",
   "metadata": {},
   "source": [
    "## Task 3: Evaluation of Scenarios\n",
    "In this task, we'll run different context models to evaluate how well our agent performs under different scenarios. This will help us understand how the choice of context model affects the agent's performance and the regret it incurs over time. In all cases, we will use the same agent and bandit algorithm but vary the context model to see how it influences the agent's decisions and performance. We'll use the $\\epsilon$-greedy algorithm to estimate an optimal policy for the agent based on the contextual information provided by the `MyBanditConsumerContextModel` models.\n",
    "\n",
    "We have already built all the models, so let's run all three scenarios below. In each case [we call the `solve(...)` method](src/Bandit.jl) to simulate the agent's decision-making process over a specified number of rounds, `T`, given the world defined by the `world(...)` function, and the context model. The [`solve(...)` method](src/Bandit.jl) returns the results of the simulation in the `results_case_*` variable."
   ]
  },
  {
   "cell_type": "code",
   "execution_count": 56,
   "id": "67465fb7",
   "metadata": {},
   "outputs": [],
   "source": [
    "results_case_1 = solve(algorithm, T = T, world = world, context=simple_no_budget_context); # compute allocation for case 1\n",
    "results_case_2 = solve(algorithm, T = T, world = world, context=simple_with_budget_context); # compute allocation for case 2\n",
    "results_case_3 = solve(algorithm, T = T, world = world, context=mixed_with_budget_context); # compute allocation for case 3"
   ]
  },
  {
   "cell_type": "markdown",
   "id": "2e00fa9e",
   "metadata": {},
   "source": [
    "### Case 1: Unlimited Budget, Uniform Positive Sentiment\n",
    "In this case, we will evaluate the agent's performance using the `simple_no_budget_context` model. This model assumes an unlimited budget and uniform positive sentiment across all goods."
   ]
  },
  {
   "cell_type": "code",
   "execution_count": 57,
   "id": "08260462",
   "metadata": {},
   "outputs": [
    {
     "name": "stdout",
     "output_type": "stream",
     "text": [
      "======== ========== ============\n",
      " \u001b[1m  good \u001b[0m \u001b[1m purchase \u001b[0m \u001b[1m cumreward \u001b[0m\n",
      " \u001b[90m Int64 \u001b[0m \u001b[90m   String \u001b[0m \u001b[90m   Float64 \u001b[0m\n",
      "======== ========== ============\n",
      "      1        Yes         1.0\n",
      "      2        Yes         1.0\n",
      "      3        Yes         1.0\n",
      "      4        Yes         1.0\n",
      "      5        Yes         1.0\n",
      "      6        Yes         1.0\n",
      "      7        Yes         1.0\n",
      "      8        Yes         1.0\n",
      "      9        Yes         1.0\n",
      "     10        Yes         1.0\n",
      "     11        Yes         1.0\n",
      "     12        Yes         1.0\n",
      "======== ========== ============\n"
     ]
    }
   ],
   "source": [
    "table(results_case_1, algorithm, simple_no_budget_context) |> df -> pretty_table(df, tf = tf_simple)"
   ]
  },
  {
   "cell_type": "markdown",
   "id": "6dfb4b3e",
   "metadata": {},
   "source": [
    "How much did our agent spend, and how much benefit was gained? `Unhide` the code block below to see the results of the agent's performance under this scenario. "
   ]
  },
  {
   "cell_type": "code",
   "execution_count": 58,
   "id": "f513a14d",
   "metadata": {},
   "outputs": [
    {
     "name": "stdout",
     "output_type": "stream",
     "text": [
      "Case 1: Agent spent: 780.0 USD and rcvd 12.0 utils. ROI: 0.015384615384615385 util/USD\n"
     ]
    }
   ],
   "source": [
    "let\n",
    "\n",
    "    # initialiize -\n",
    "    results = results_case_1; # use results from case 1 for this example\n",
    "    context = simple_no_budget_context;\n",
    "    K = algorithm.K; # number of categories\n",
    "    n = algorithm.n; # recommended number of items to purchase in each category\n",
    "    γ = context.γ; # user preference for each good (unknown to bandits)\n",
    "    C = context.C; # unit costs of goods (unknown to bandits)\n",
    "\n",
    "    # compute the best collection of goods -\n",
    "    K = algorithm.K; # number of arms in the algorithm\n",
    "    N = 2^K; # number of possible goods combinations (2^K) - this is the total number of combinations of goods we can have \n",
    "\n",
    "    μ = zeros(Float64, N); # average reward for each possible goods combination\n",
    "    for a ∈ 1:N\n",
    "        μ[a] = filter(x -> x != 0.0, results[:,a]) |> x-> mean(x)\n",
    "\n",
    "        # fix NaN -\n",
    "        if (isnan(μ[a]) == true)\n",
    "            μ[a] = -Inf; # replace NaN with a big negative\n",
    "        end\n",
    "    end\n",
    "    î = argmax(μ); # compute the arm with best average reward\n",
    "    aₜ = digits(î, base=2, pad=K); # which goods do we select?\n",
    "\n",
    "    U = Array{Float64,1}(undef, K); # initialize the array to store the goods selected\n",
    "    for i ∈ 1:K\n",
    "       U[i] = aₜ[i]*n[i]*γ[i]; # store the goods selected in the array\n",
    "    end\n",
    "\n",
    "    spend = Array{Float64,1}(undef, K); # initialize the array to store the spend on each good\n",
    "    for i ∈ 1:K\n",
    "        # calculate the spend on each good based on the recommended quantity and unit cost\n",
    "        spend[i] = aₜ[i]*n[i] * C[i]; # total spend on each good\n",
    "    end\n",
    "\n",
    "    S̄ = sum(spend); # total spend for case 2\n",
    "    Ū = sum(U); # total utility for case 2\n",
    "    println(\"Case 1: Agent spent: $(S̄) USD and rcvd $(Ū) utils. ROI: $(Ū/S̄) util/USD\"); # print total spend for case 1\n",
    "    \n",
    "end;"
   ]
  },
  {
   "cell_type": "markdown",
   "id": "65ae3740",
   "metadata": {},
   "source": [
    "### Case 2: Limited Budget, Uniform Positive Sentiment\n",
    "In this case, we will evaluate the agent's performance using the `simple_with_budget_context` model. This model assumes a limited budget and uniform positive sentiment across all goods."
   ]
  },
  {
   "cell_type": "code",
   "execution_count": 59,
   "id": "108c1d01",
   "metadata": {},
   "outputs": [
    {
     "name": "stdout",
     "output_type": "stream",
     "text": [
      "======== ========== ============\n",
      " \u001b[1m  good \u001b[0m \u001b[1m purchase \u001b[0m \u001b[1m cumreward \u001b[0m\n",
      " \u001b[90m Int64 \u001b[0m \u001b[90m   String \u001b[0m \u001b[90m   Float64 \u001b[0m\n",
      "======== ========== ============\n",
      "      1        Yes         1.0\n",
      "      2        Yes         1.0\n",
      "      3        Yes         1.0\n",
      "      4        Yes         1.0\n",
      "      5         No         0.0\n",
      "      6         No         0.0\n",
      "      7         No         0.0\n",
      "      8         No         0.0\n",
      "      9         No         0.0\n",
      "     10         No         0.0\n",
      "     11         No         0.0\n",
      "     12         No         0.0\n",
      "======== ========== ============\n"
     ]
    }
   ],
   "source": [
    "table(results_case_2, algorithm, simple_with_budget_context) |> df -> pretty_table(df, tf = tf_simple) "
   ]
  },
  {
   "cell_type": "markdown",
   "id": "a9383f91",
   "metadata": {},
   "source": [
    "How much did our agent spend, and how much benefit was gained? `Unhide` the code block below to see the results of the agent's performance under this scenario. "
   ]
  },
  {
   "cell_type": "code",
   "execution_count": 60,
   "id": "2af1c911",
   "metadata": {},
   "outputs": [
    {
     "name": "stdout",
     "output_type": "stream",
     "text": [
      "Case 2: Agent spent: 100.0 USD and rcvd 4.0 utils. ROI: 0.04 util/USD\n"
     ]
    }
   ],
   "source": [
    "let\n",
    "\n",
    "    # initialiize -\n",
    "    results = results_case_2; # use results from case 1 for this example\n",
    "    context = simple_no_budget_context;\n",
    "    K = algorithm.K; # number of categories\n",
    "    n = algorithm.n; # recommended number of items to purchase in each category\n",
    "    γ = context.γ; # user preference for each good (unknown to bandits)\n",
    "    C = context.C; # unit costs of goods (unknown to bandits)\n",
    "\n",
    "    # compute the best collection of goods -\n",
    "    K = algorithm.K; # number of arms in the algorithm\n",
    "    N = 2^K; # number of possible goods combinations (2^K) - this is the total number of combinations of goods we can have \n",
    "\n",
    "    μ = zeros(Float64, N); # average reward for each possible goods combination\n",
    "    for a ∈ 1:N\n",
    "        μ[a] = filter(x -> x != 0.0, results[:,a]) |> x-> mean(x)\n",
    "\n",
    "        # fix NaN -\n",
    "        if (isnan(μ[a]) == true)\n",
    "            μ[a] = -Inf; # replace NaN with a big negative\n",
    "        end\n",
    "    end\n",
    "    î = argmax(μ); # compute the arm with best average reward\n",
    "    aₜ = digits(î, base=2, pad=K); # which goods do we select?\n",
    "\n",
    "    U = Array{Float64,1}(undef, K); # initialize the array to store the goods selected\n",
    "    for i ∈ 1:K\n",
    "       U[i] = aₜ[i]*n[i]*γ[i]; # store the goods selected in the array\n",
    "    end\n",
    "\n",
    "    spend = Array{Float64,1}(undef, K); # initialize the array to store the spend on each good\n",
    "    for i ∈ 1:K\n",
    "        # calculate the spend on each good based on the recommended quantity and unit cost\n",
    "        spend[i] = aₜ[i]*n[i] * C[i]; # total spend on each good\n",
    "    end\n",
    "\n",
    "    S̄ = sum(spend); # total spend for case 2\n",
    "    Ū = sum(U); # total utility for case 2\n",
    "    println(\"Case 2: Agent spent: $(S̄) USD and rcvd $(Ū) utils. ROI: $(Ū/S̄) util/USD\"); # print total spend for case 2\n",
    "end;"
   ]
  },
  {
   "cell_type": "markdown",
   "id": "05190094",
   "metadata": {},
   "source": [
    "### Case 3: Limited Budget, Mixed Sentiment\n",
    "In this case, we will evaluate the agent's performance using the `mixed_with_budget_contextt` model. This model assumes a limited budget and mixed positive and negative sentiment across all goods."
   ]
  },
  {
   "cell_type": "code",
   "execution_count": 61,
   "id": "9d9ee44a",
   "metadata": {},
   "outputs": [
    {
     "name": "stdout",
     "output_type": "stream",
     "text": [
      "======== ========== ============\n",
      " \u001b[1m  good \u001b[0m \u001b[1m purchase \u001b[0m \u001b[1m cumreward \u001b[0m\n",
      " \u001b[90m Int64 \u001b[0m \u001b[90m   String \u001b[0m \u001b[90m   Float64 \u001b[0m\n",
      "======== ========== ============\n",
      "      1         No        -0.0\n",
      "      2        Yes         1.0\n",
      "      3         No        -0.0\n",
      "      4        Yes         1.0\n",
      "      5         No        -0.0\n",
      "      6         No         0.0\n",
      "      7         No        -0.0\n",
      "      8         No         0.0\n",
      "      9         No        -0.0\n",
      "     10         No         0.0\n",
      "     11         No        -0.0\n",
      "     12         No         0.0\n",
      "======== ========== ============\n"
     ]
    }
   ],
   "source": [
    "table(results_case_3, algorithm, mixed_with_budget_context) |> df -> pretty_table(df, tf = tf_simple) "
   ]
  },
  {
   "cell_type": "code",
   "execution_count": 62,
   "id": "69809e3b",
   "metadata": {},
   "outputs": [
    {
     "name": "stdout",
     "output_type": "stream",
     "text": [
      "Case 3: Agent spent: 60.0 USD and rcvd 2.0 utils. ROI: 0.03333333333333333 util/USD\n"
     ]
    }
   ],
   "source": [
    "let\n",
    "\n",
    "    # initialiize -\n",
    "    results = results_case_3; # use results from case 1 for this example\n",
    "    context = simple_no_budget_context;\n",
    "    K = algorithm.K; # number of categories\n",
    "    n = algorithm.n; # recommended number of items to purchase in each category\n",
    "    γ = context.γ; # user preference for each good (unknown to bandits)\n",
    "    C = context.C; # unit costs of goods (unknown to bandits)\n",
    "\n",
    "    # compute the best collection of goods -\n",
    "    K = algorithm.K; # number of arms in the algorithm\n",
    "    N = 2^K; # number of possible goods combinations (2^K) - this is the total number of combinations of goods we can have \n",
    "\n",
    "    μ = zeros(Float64, N); # average reward for each possible goods combination\n",
    "    for a ∈ 1:N\n",
    "        μ[a] = filter(x -> x != 0.0, results[:,a]) |> x-> mean(x)\n",
    "\n",
    "        # fix NaN -\n",
    "        if (isnan(μ[a]) == true)\n",
    "            μ[a] = -Inf; # replace NaN with a big negative\n",
    "        end\n",
    "    end\n",
    "    î = argmax(μ); # compute the arm with best average reward\n",
    "    aₜ = digits(î, base=2, pad=K); # which goods do we select?\n",
    "\n",
    "    U = Array{Float64,1}(undef, K); # initialize the array to store the goods selected\n",
    "    for i ∈ 1:K\n",
    "       U[i] = aₜ[i]*n[i]*γ[i]; # store the goods selected in the array\n",
    "    end\n",
    "\n",
    "    spend = Array{Float64,1}(undef, K); # initialize the array to store the spend on each good\n",
    "    for i ∈ 1:K\n",
    "        # calculate the spend on each good based on the recommended quantity and unit cost\n",
    "        spend[i] = aₜ[i]*n[i] * C[i]; # total spend on each good\n",
    "    end\n",
    "\n",
    "    S̄ = sum(spend); # total spend for case 2\n",
    "    Ū = sum(U); # total utility for case 2\n",
    "    println(\"Case 3: Agent spent: $(S̄) USD and rcvd $(Ū) utils. ROI: $(Ū/S̄) util/USD\"); # print total spend for case 2\n",
    "end;"
   ]
  },
  {
   "cell_type": "markdown",
   "id": "06d8f475",
   "metadata": {},
   "source": [
    "## Tests\n",
    "In the code block below, we check some values in your notebook and give you feedback on which items are correct or different. `Unhide` the code block below (if you are curious) about how we implemented the tests and what we are testing."
   ]
  },
  {
   "cell_type": "code",
   "execution_count": 63,
   "id": "d33a68e6",
   "metadata": {},
   "outputs": [
    {
     "name": "stdout",
     "output_type": "stream",
     "text": [
      "\u001b[0m\u001b[1mTest Summary:                           | \u001b[22m\u001b[32m\u001b[1mPass  \u001b[22m\u001b[39m\u001b[36m\u001b[1mTotal  \u001b[22m\u001b[39m\u001b[0m\u001b[1mTime\u001b[22m\n",
      "CHEME 5820 Problem Set 4 Test Suite     | \u001b[32m   7  \u001b[39m\u001b[36m    7  \u001b[39m\u001b[0m0.0s\n",
      "  Task 1: Setup, Prerequisites and Data | \u001b[32m   3  \u001b[39m\u001b[36m    3  \u001b[39m\u001b[0m0.0s\n",
      "  Task 2: Context models                | \u001b[32m   4  \u001b[39m\u001b[36m    4  \u001b[39m\u001b[0m0.0s\n"
     ]
    }
   ],
   "source": [
    "let \n",
    "    @testset verbose = true \"CHEME 5820 Problem Set 4 Test Suite\" begin\n",
    "\n",
    "        @testset \"Task 1: Setup, Prerequisites and Data\" begin\n",
    "            @test _DID_INCLUDE_FILE_GET_CALLED == true\n",
    "            @test isdefined(Main, :world) == true\n",
    "            @test isnothing(algorithm) == false\n",
    "        end\n",
    "\n",
    "        @testset \"Task 2: Context models\" begin\n",
    "            @test isnothing(simple_no_budget_context) == false # Test for simple no budget context\n",
    "            @test isnothing(simple_with_budget_context) == false # Test for simple with budget context\n",
    "            @test isnothing(mixed_with_budget_context) == false # Test for mixed context with budget\n",
    "            @test simple_no_budget_context.λ == 0; #\n",
    "        end\n",
    "\n",
    "    end\n",
    "end;"
   ]
  },
  {
   "cell_type": "code",
   "execution_count": 64,
   "id": "12d7081c",
   "metadata": {},
   "outputs": [],
   "source": []
  }
 ],
 "metadata": {
  "kernelspec": {
   "display_name": "Julia 1.11.4",
   "language": "julia",
   "name": "julia-1.11"
  },
  "language_info": {
   "file_extension": ".jl",
   "mimetype": "application/julia",
   "name": "julia",
   "version": "1.11.4"
  }
 },
 "nbformat": 4,
 "nbformat_minor": 5
}
