{
 "cells": [
  {
   "cell_type": "markdown",
   "id": "ad875215",
   "metadata": {},
   "source": [
    "# PS4: Let's build a Personal Shopper\n",
    "In this problem set, we'll build a simple personal shopper program that helps users find items they might want to buy based on their preferences. The program will allow users to input their preferences and then suggest items from a predefined list that maximize their satisfaction (measured using a utility function) based on those preferences, subjet to a budget constraint.\n",
    "* _How are we going to do this?_ While there are a few different ways to approach this problem, we'll use a greedy bandit problem algorithm formulation to find the best combination of items that maximizes the user's satisfaction without exceeding their budget. The teaching team has modified the `L7b` codebase to solve this problem, and a provided a budget aware `world(...)` function. You can find the code in the `src` directory of this lab (and the `world(...)` function is defined below).\n",
    "* _Multiple choices_: The bandit problems we exploreed in `Week-7` esimated the best possible _single choice_ from a collection of $K$ competining alternatives (arms). However, in this problem shoppers can (potentially) choose multiple items (or not) simulataneously, i.e., there are $N = 2^{K}$ possible combinations of items (including the empty set). We've addressed this issue by having the bandit recomened action vectors $\\mathbf{a} \\in \\left\\{0,1\\right\\}^{N}$, where $a_i = 1$ means that item $i$ is chosen and $a_i = 0$ means that it is not. \n",
    "* _Budget constraint_: The bandit algorithm will also need to respect a budget constraint, which means that the total cost of the chosen items cannot exceed a specified budget. This is done by modifying the `world(...)` function with [a quadratic penatly term](https://en.wikipedia.org/wiki/Penalty_function) that is _subtracted_ from the utility if the total cost of the chosen items exceeds the budget. The penalty term is a function of the difference between the total cost and the budget, and it is designed to discourage the bandit from choosing combinations of items that exceed the budget. The sensitivity of the bandit to the budget constraint is described the hyperparameter $\\lambda \\geq 0$. If $\\lambda = 0$, the bandit ignores the budget constraint and chooses the combination of items that maximizes the utility. If $\\lambda > 0$, the bandit will try to find a combination of items that maximizes the utility while respecting the budget constraint. The larger the value of $\\lambda$, the more sensitive the bandit is to the budget constraint.\n",
    "\n",
    "### Tasks\n",
    "Before you start, execute the `Run All Cells` command to check if you have any code or setup issues. Code issues, post them [to Ed Discussion](https://edstem.org/) - and let's get those fixed!\n",
    "\n",
    "* __Task 1: Setup, Data, Constants__: In this task, we setup the computational environment, load the necessary packages, and prepare the `world(...)` function for our personal shopper problem. We will also define any constants that we will use throughout the problem set.\n",
    "* __Task 2: Build the Context Models__:\n",
    "In this task, we will build several models of the contextual information that will be used to inform the agent's recomendations. These models, which are [instances of the `MyBanditConsumerContextModel` type](src/Types.jl) hold various parameters that will be used in the `world(...)` funtion that we developed in Task 1.\n",
    "* __Task 3: Evaluation of Scenarios__: In this task, we'll run different the context models to evaluate how well our agent performs under different scenarios. In all cases, we will use the same bandit algorithm but vary the context model to see how it influences the agent's decisions and performance. \n",
    "\n",
    "Tests throughout the notebook (and at the bottom section) help you determine if things are running correctly. Let's go!!! (Don't forget to answer the discussion questions)."
   ]
  },
  {
   "cell_type": "markdown",
   "id": "458ab823",
   "metadata": {},
   "source": [
    "## Task 1: Setup, Data, and Prerequisites\n",
    "In this task, we setup the computational environment, load the necessary packages, and prepare the `world(...)` function for our personal shopper problem. We will also define any constants that we will use throughout the problem set.\n",
    "\n",
    "We set up the computational environment by including the `Include.jl` file, loading any needed resources, such as sample datasets, and setting up any required constants. \n",
    "* The `Include.jl` file also loads external packages, various functions that we will use in the exercise, and custom types to model the components of our problem. It checks for a `Manifest.toml` file; if it finds one, packages are loaded. Other packages are downloaded and then loaded."
   ]
  },
  {
   "cell_type": "code",
   "execution_count": 37,
   "id": "5bf46373",
   "metadata": {},
   "outputs": [],
   "source": [
    "include(\"Include.jl\"); # This will load necessary packages and functions"
   ]
  },
  {
   "cell_type": "markdown",
   "id": "461fa67d",
   "metadata": {},
   "source": [
    "First, build the `world(...)` function. \n",
    "* The `world(...)` function takes the action vector `a::Array{Int64,1}` where the elements of `a::Array{Int64,1}` are binary variables indicating whether to select an item (`1`) or not (`0`). The length of the action vector `a` is $N$, the total number of _combinations_ available for selection. The function also takes the array `n::Array{Float64,1}` that contains the amount of each good to purchase (specified by the shopper beforehand). Finally, the `world(...)` function takes a `context` model, which encapsulates the environment in which the personal shopper operates, including the budget constraint and the penalty for exceeding it. More on the `context` in `Task 2`.\n",
    "\n",
    "We've assumed a _linear utility function_ for the personal shopper problem, where the utility is a linear combination of the items chosen, minus a penalty for exceeding the budget. The utility function $U:\\mathbb{R}^{N}\\rightarrow\\mathbb{R}$ is defined as follows:\n",
    "$$\n",
    "\\begin{align*}\n",
    "U_{\\lambda}(\\mathbf{a}, \\mathbf{n},\\mathbf{\\gamma}) = \\sum_{i=1}^{N} a_{i} \\cdot \\gamma_{i}\\cdot n_i - \\lambda \\cdot \\left[\\max(0, \\sum_{i=1}^{N} c_i \\cdot n_{i} \\cdot a_i - B)\\right]^{2}\n",
    "\\end{align*}\n",
    "$$\n",
    "where $\\gamma_{i}$ is the user preference for option $i$, the term $n_i$ denotes the number of goods of type $i$ purchased, and $a_{i}\\in\\left\\{0,1\\right\\}$ denotes whether item $i$ is selected (1) or not (0). The term $\\lambda \\geq 0$ is a penalty parameter that controls the sensitivity of the utility function to the budget constraint, and $B$ is the budget limit. The quadratic penalty term $\\left[\\max(0, \\sum_{i=1}^{N} c_i \\cdot n_{i} \\cdot a_i - B)\\right]^{2}$ is subtracted from the utility if the total cost exceeds the budget, where $c_i$ is the cost of item $i$.\n",
    "\n",
    "__Hmmm__. Sometimes we have some uncertainty in the benefit that is gained when we purchase good $i$, so let's add some randomness to the problem. In the presence of uncertainty, the utility function becomes:\n",
    "$$\n",
    "\\begin{align*}\n",
    "U_{\\lambda}(\\mathbf{a}, \\mathbf{n},\\mathbf{\\gamma}) = \\sum_{i=1}^{N} a_{i} \\cdot (\\gamma_{i} + \\sigma_{i} \\cdot Z_i) \\cdot n_i - \\lambda \\cdot \\left[\\max(0, \\sum_{i=1}^{N} c_i \\cdot n_{i} \\cdot a_i - B)\\right]^{2}\n",
    "\\end{align*}\n",
    "$$\n",
    "where $Z_i \\sim \\mathcal{N}(0,1)$ is a random variable drawn from a standard normal distribution for each item $i$, and $\\sigma_{i}\\geq{0}$ denotes the strength of the uncertainty associated with good $i$ (hyperparameter set by the shopper). This adds a stochastic element to the utility function, making it more realistic in scenarios where the benefits of purchasing items are uncertain."
   ]
  },
  {
   "cell_type": "code",
   "execution_count": 38,
   "id": "e3c90e73",
   "metadata": {},
   "outputs": [],
   "source": [
    "function world(a::Vector{Int64}, n::Array{Float64,1}, context::MyBanditConsumerContextModel)::Float64\n",
    "\n",
    "    # initialize -\n",
    "    γ = context.γ; # consumer preferences (unknown to bandits)\n",
    "    σ = context.σ; # noise in utility calculation (unknown to bandits)\n",
    "    B = context.B; # max budget (unknown to bandits)\n",
    "    C = context.C; # unit costs of goods (unknown to bandits)\n",
    "    λ = context.λ; # sensitivity to the budget\n",
    "    Z = context.Z; # noise model\n",
    "    number_of_goods = context.m; # number of possible combinations\n",
    "\n",
    "    # compute the reward for this choice -\n",
    "    Ū = 0.0; # initial utility\n",
    "    BC = 0.0; # initial budget constraint\n",
    "    for i ∈ 1:number_of_goods\n",
    "        \n",
    "        # what action is being taken in this category?\n",
    "        aᵢ = a[i]; # this is which good to purchase in category i -\n",
    "        if (aᵢ == 0)\n",
    "            # if aᵢ is 0, it means no good was chosen in this category, \n",
    "            # hence we should skip this category in the utility calculation\n",
    "            continue; # continue to the next iteration (skip everything after this line for this category)\n",
    "        end\n",
    "\n",
    "        nᵢ = n[i]; # this is the quantity purchased of good aᵢ in category i\n",
    "        Cᵢ = C[i]; # cost of chosen good in category i\n",
    "        γᵢ = γ[i]; # preference of good in category i\n",
    "        σᵢ = σ[i]; # standard dev for good i\n",
    "   \n",
    "        # update the utility and the budget constraint -\n",
    "        Ū += γᵢ*(nᵢ + σᵢ*rand(Z)); # compute the utility for this good, with noise. We'll use a linear utility model\n",
    "        BC += nᵢ*Cᵢ; # compute the budget constraint -\n",
    "    end\n",
    "\n",
    "    # compute the utility with the budget constraint\n",
    "    U = Ū - λ*max(0.0, (BC - B))^2; # use a penalty method to capture budget constraint\n",
    "\n",
    "    # return the reward -\n",
    "    return U;\n",
    "end;"
   ]
  },
  {
   "cell_type": "markdown",
   "id": "501f330d",
   "metadata": {},
   "source": [
    "Next, let's build a model of our agent's decision making process.  We've modified the $\\epsilon$-greedy algorithm from `L7b` to work with our contextual multiple-choice bandit problem. The algorithm will now take into account the context provided by [the `MyBanditConsumerContextModel` model](src/Types.jl) and can select multiple items from list of possible choices.\n",
    "\n",
    "#### Epsilon-Greedy with Multiple Choice Algorithm\n",
    "In the _epsilon-greedy_ algorithm, the agent chooses the best _single_ arm with probability $1-\\epsilon$ and a random arm with probability $\\epsilon$. This approach balances exploration and exploitation by allowing the agent to explore different arms while also exploiting the best-known arm based on past rewards. The parameter $\\epsilon$ controls the exploration rate: a higher value means more exploration, while a lower value means more exploitation.\n",
    "\n",
    "* _How do we allow multiple choices?_ In the context of our personal shopper problem, we extend the epsilon-greedy algorithm to allow the agent to choose multiple arms (items) simultaneously. Instead of selecting a single arm, the agent will now select a binary vector $\\mathbf{a} \\in \\left\\{0,1\\right\\}^{N}$, where each element $a_i$ indicates whether to select item $i$ or not. The algorithm will still balance exploration and exploitation, but now it will consider combinations of items rather than just one.\n",
    "\n",
    "The agent has $N$ arms (choices), $\\mathcal{A} = \\left\\{1,2,\\dots,N\\right\\}$, where we transform the index of each arm into a binary vector [using the `digits(...)` method](https://docs.julialang.org/en/v1/base/numbers/#Base.digits), `base = 2`, and `pad = K`. Thus, each arm corresponds to a unique combination of items, with the total number of arms is $N = 2^{K}$, where $K$ is the number of items available. The binary vector $\\mathbf{a} = (a_1, a_2, \\ldots, a_N)$ indicates whether each item is chosen (1) or not (0). \n",
    "* For example, if $K=3$ and the agent chooses items 1 and 3, then binary vector would be $\\mathbf{a} = (1, 0, 1)$, which corresponds to an `index = 5`.\n",
    "\n",
    "During each round, the agent will decide which arms to pull based on the epsilon-greedy strategy. The agent maintains a list of average rewards for each arm (combination of items) and updates these values based on the rewards received from the adversary (nature) over $T$ rounds. The algorithm works as follows:\n",
    "\n",
    "__Intialization__: Specify the `world(...)` method, a `context` model and the set of possible actions $\\mathcal{A} = \\left\\{1,2,\\dots,N\\right\\}$ where $N = 2^{K}$, and $K$ denotes the number of items available for selection. \n",
    "\n",
    "For $t = 1,2,\\dots,T$:\n",
    "1. Roll a random number $p\\in\\left[0,1\\right]$ and compute a threshold $\\epsilon_{t}={t^{-1/3}}\\cdot\\left(K\\cdot\\log(t)\\right)^{1/3}$.\n",
    "2. _Exploration_: If $p\\leq\\epsilon_{t}$, choose a random $a_{t}\\in\\mathcal{A}$, and compute the binary representation of $a_{t}$ using [the `digits(...)` method](https://docs.julialang.org/en/v1/base/numbers/#Base.digits) with `base = 2` and `pad = K`. \n",
    "Execute the action $a_{t}$, i.e., evaluate the `world(...)` method, and receive a reward $r_{t}$ from the _adversary_ (nature). \n",
    "3. _Exploitation_: Else if $p>\\epsilon_{t}$, choose action $a^{\\star}$, the action with the highest average reward so far. Execute the action $a^{\\star}_{t}$ and recieve a reward $r_{t}$ from the _adversary_ (nature).\n",
    "4. Update average reward data for $a_{t}\\in\\mathcal{A}$. We used a movining average for the rewards of each action $a_i$: $\\mu_{a,t} = \\mu_{a,t-1} + \\alpha\\left(r_{t} - \\mu_{a,t-1}\\right)$, where $\\alpha>0$ is a learning rate hyperparameter. This modification allows the algorithm to adaptively (and _efficiently_) learn the average reward for each action over time, giving more weight to recent rewards while still considering past performance. "
   ]
  },
  {
   "cell_type": "markdown",
   "id": "e34dc0e9",
   "metadata": {},
   "source": [
    "__Constants__: Set constants we'll use in the subsequent tasks. See the comment beside the value for a description of what it is, its permissible values, etc.\n",
    "* __TODO__: Suppose we have `K = 12` different goods to choose from, set `K = 12`. Set the number of rounds of simulation `T::Int64` to some $2^{m}$. What is a good value for $m$? We want to (on average) be able to select every possible combination, so perhaps $T\\geq{2}^{K}$? For the budget, set `B = 100` USD (you can play with this later if you wish to see what happens with different budgets)."
   ]
  },
  {
   "cell_type": "code",
   "execution_count": 39,
   "id": "a6c80c38",
   "metadata": {},
   "outputs": [],
   "source": [
    "K = 12; # TODO: Let's consider 12 different goods/categories initially\n",
    "T = 2^14; # TODO: number of rounds for each decision task (should be geq 2^{K})\n",
    "B = 100.0; # TODO: Budget for shopper, assume 100 USD. Can change this later if we want"
   ]
  },
  {
   "cell_type": "markdown",
   "id": "716c2780",
   "metadata": {},
   "source": [
    "Finally, let's build [a `MyEpsilonGreedyAlgorithmModel` instance](src/Types.jl) which encapsulates the $\\epsilon$-greedy logic that has been modified to work with multiple selection, and our choices of constants.\n",
    "* __TODO__: To contstruct this type, we [use a custom `build(...)` method](src/Factory.jl) that takes the arms `K::Int64` and the items `n::Array{Float64,1}` array and returns an algorithmn model in the `algorithm::MyEpsilonGreedyAlgorithmModel` variable. In this simulationm, let `K = 12` and `n` to be array of ones."
   ]
  },
  {
   "cell_type": "code",
   "execution_count": 40,
   "id": "94660951",
   "metadata": {},
   "outputs": [],
   "source": [
    "algorithm = let\n",
    "\n",
    "    # initialize -\n",
    "    algorithm = nothing; # initialize the algorithm variable to nothing, this variable will be used to store the algorithm model\n",
    "    n = ones(Float64, K); # for now, let's assume that we purchase a single unit of each good in each category (we can change this later)\n",
    "    \n",
    "    # TDOD: Build an algorithm model by by uncommenting the code block below\n",
    "    algorithm = build(MyEpsilonGreedyAlgorithmModel, (\n",
    "        K = K, # arms \n",
    "        n = n, # items dictionary\n",
    "    ));\n",
    "\n",
    "    # return the algorithm -\n",
    "    algorithm;\n",
    "end;"
   ]
  },
  {
   "cell_type": "markdown",
   "id": "bb84ef94",
   "metadata": {},
   "source": [
    "## Task 2: Build the Context Models\n",
    "In this task, we will build several models of the contextual information that will be used to inform the agent's recomendations. These models, which are [instances of the `MyBanditConsumerContextModel` type](src/Types.jl) hold various parameters that will be used in the `world(...)` funtion that we developed above. \n",
    "* _Hmmm. Why use a different model for contextual data_? We use a separate model for the contextual information because it allows us to encapsulate all the relevant parameters and settings in one place. This makes it easier to manage and modify the parameters as needed, without having to change the core logic of the `world(...)` function. Additionally, it allows us to easily pass around context models to other parts of our codebase that may need it.\n",
    "* _What does this represent_? The contextual information in the `MyBanditConsumerContextModel` represents the parameters that will be used to score the utility of the goods chosen by the agent. This includes user sentiment parameters, budget constraints, and other relevant information that will help the agent make informed decisions about which goods to recommend.\n",
    "\n",
    "Let's build the following contextual models:\n",
    "* __Case 1: Unlimited budget, uniform positive sentiment__: This model assumes that the consumer has an unlimited budget ($\\lambda = 0$) and uniform positive sentiment across all goods. This means that the consumer is equally likely to choose any good in each category, and there are no constraints on the amount of each good that can be selected. \n",
    "* __Case 2: Limited budget, positive sentiment__: This model assumes that the consumer has a limited budget $\\lambda>0$ and positive sentiment (but not neccesarily uniform) towards goods. This means that the consumer is more likely to choose goods that they have a positive sentiment towards, and there are constraints on the amount of each good that can be selected based on the budget.\n",
    "* __Case 3: Limited budget, mixed sentiment__: This model assumes that the consumer has a limited budget $\\lambda>0$ and mixed sentiment towards goods. This means that some goods may have positive sentiment (i.e., they are preferred), while others may have negative sentiment (i.e., they are not preferred). The agent must balance the positive and negative sentiments when making recommendations, and there are constraints on the amount of each good that can be selected based on the budget."
   ]
  },
  {
   "cell_type": "markdown",
   "id": "515770ff",
   "metadata": {},
   "source": [
    "Let's start with __case 1__. We save this case in the `simple_no_budget_context::MyBanditConsumerContextModel` variable."
   ]
  },
  {
   "cell_type": "code",
   "execution_count": 41,
   "id": "28bf1f19",
   "metadata": {},
   "outputs": [],
   "source": [
    "simple_no_budget_context = let\n",
    "\n",
    "    # initialize -\n",
    "    context = nothing; # initialize the context variable to nothing, this variable will be used to store the context model\n",
    "    K = algorithm.K; # number of arms in the algorithm, this should match the number of goods in the context model\n",
    "    γ = Array{Float64,1}(undef, K); # consumer preferences (unknown to bandits)\n",
    "    σ = Array{Float64,1}(undef, K); # noise in utility calculation (unknown to bandits)\n",
    "    C = Array{Float64,1}(undef, K); # unit costs of goods (unknown to bandits)\n",
    "    Z = Normal(0,1); # use a standard normal distribution for the noise model, this can be changed to any distribution as required\n",
    "    λ = 0.0; # sensitivity to the budget constraint λ ≥ 0. If zero, then no penalty for budget constraint violation.\n",
    "\n",
    "    # set the parameters -\n",
    "    # preferences: If all γ[i] are equal to 1.0, then the bandit will be indifferent to the goods in each category.\n",
    "    for i ∈ 1:K\n",
    "        # Assigning values for γ, σ, and C for each good in the context model\n",
    "        # For simplicity, let's assume we have K goods with equal preference\n",
    "        # This can be customized as per the requirement of the simulation\n",
    "        γ[i] = 1.0; # uniform preference for all goods\n",
    "        σ[i] = 0.1; # uniform uncertainty for all goods, this can be adjusted based on the specific needs of the simulation\n",
    "        C[i] = 10.0 + 10.0 * (i - 1); # linearly increasing costs for goods, this can be customized as per the requirement\n",
    "    end\n",
    "\n",
    "    # build a context model with the reqired parameters -\n",
    "    context = build(MyBanditConsumerContextModel, (\n",
    "        γ = γ, # consumer preferences (unknown to bandits)\n",
    "        σ = σ, # noise in utility calculation (unknown to bandits)\n",
    "        B = B, # max budget (unknown to bandits)\n",
    "        C = C, # unit costs of goods (unknown to bandits)\n",
    "        λ = λ, # sensitivity to the budget\n",
    "        Z = Z, # noise model\n",
    "        m = K, # number of categories (this should match the number of arms in the algorithm)\n",
    "    )); # build the context\n",
    "\n",
    "    # return \n",
    "    context;\n",
    "end;"
   ]
  },
  {
   "cell_type": "markdown",
   "id": "c8e9887a",
   "metadata": {},
   "source": [
    "__Case 2__. In this scenario, the consumer has a limited budget and positive sentiment. We set a budget constraint and define the user sentiment parameters to reflect positive sentiment towards all goods. We save this case in the `simple_with_budget_context::MyBanditConsumerContextModel` variable.`"
   ]
  },
  {
   "cell_type": "code",
   "execution_count": 42,
   "id": "7d7424be",
   "metadata": {},
   "outputs": [],
   "source": [
    "simple_with_budget_context = let\n",
    "\n",
    "    # initialize -\n",
    "    context = nothing; # initialize the context variable to nothing, this variable will be used to store the context model\n",
    "    K = algorithm.K; # number of arms in the algorithm, this should match the number of goods in the context model\n",
    "    γ = Array{Float64,1}(undef, K); # consumer preferences (unknown to bandits)\n",
    "    σ = Array{Float64,1}(undef, K); # noise in utility calculation (unknown to bandits)\n",
    "    C = Array{Float64,1}(undef, K); # unit costs of goods (unknown to bandits)\n",
    "    Z = Normal(0,1); # use a standard normal distribution for the noise model, this can be changed to any distribution as required\n",
    "    λ = 10000.0; # sensitivity to the budget constraint λ ≥ 0. If zero, then no penalty for budget constraint violation.\n",
    "\n",
    "    # set the parameters -\n",
    "    # preferences: If all γ[i] are equal to 1.0, then the bandit will be indifferent to the goods in each category.\n",
    "    for i ∈ 1:K\n",
    "        # Assigning values for γ, σ, and C for each good in the context model\n",
    "        # For simplicity, let's assume we have K goods with equal preference\n",
    "        # This can be customized as per the requirement of the simulation\n",
    "        γ[i] = 1.0; # uniform preference for all goods\n",
    "        σ[i] = 0.1; # uniform uncertainty for all goods, this can be adjusted based on the specific needs of the simulation\n",
    "        C[i] = 10.0 + 10.0 * (i - 1); # linearly increasing costs for goods, this can be customized as per the requirement\n",
    "    end\n",
    "\n",
    "    # build a context model with the reqired parameters -\n",
    "    context = build(MyBanditConsumerContextModel, (\n",
    "        γ = γ, # consumer preferences (unknown to bandits)\n",
    "        σ = σ, # noise in utility calculation (unknown to bandits)\n",
    "        B = B, # max budget (unknown to bandits)\n",
    "        C = C, # unit costs of goods (unknown to bandits)\n",
    "        λ = λ, # sensitivity to the budget\n",
    "        Z = Z, # noise model\n",
    "        m = K, # number of categories (this should match the number of arms in the algorithm)\n",
    "    )); # build the context\n",
    "\n",
    "    # return \n",
    "    context;\n",
    "end;"
   ]
  },
  {
   "cell_type": "markdown",
   "id": "1f8aaa17",
   "metadata": {},
   "source": [
    "__Case 3__. The consumer has a limited budget and mixed sentiment toward the selection of possible goods. We define both positive and negative user sentiment parameters to reflect the mixed sentiment towards goods, and set $\\lambda > 0$.  We save this case in the `mixed_with_budget_context::MyBanditConsumerContextModel` variable."
   ]
  },
  {
   "cell_type": "code",
   "execution_count": 43,
   "id": "024b1186",
   "metadata": {},
   "outputs": [],
   "source": [
    "mixed_with_budget_context = let\n",
    "\n",
    "    # initialize -\n",
    "    context = nothing; # initialize the context variable to nothing, this variable will be used to store the context model\n",
    "    K = algorithm.K; # number of arms in the algorithm, this should match the number of goods in the context model\n",
    "    γ = Array{Float64,1}(undef, K); # consumer preferences (unknown to bandits)\n",
    "    σ = Array{Float64,1}(undef, K); # noise in utility calculation (unknown to bandits)\n",
    "    C = Array{Float64,1}(undef, K); # unit costs of goods (unknown to bandits)\n",
    "    Z = Normal(0,1); # use a standard normal distribution for the noise model, this can be changed to any distribution as required\n",
    "    λ = 10000.0; # sensitivity to the budget constraint λ ≥ 0. If zero, then no penalty for budget constraint violation.\n",
    "\n",
    "    # set the parameters -\n",
    "    # preferences: If all γ[i] are equal to 1.0, then the bandit will be indifferent to the goods in each category.\n",
    "    for i ∈ 1:K\n",
    "        # Assigning values for γ, σ, and C for each good in the context model\n",
    "        # For simplicity, let's assume we have K goods with equal preference\n",
    "        # This can be customized as per the requirement of the simulation\n",
    "        \n",
    "        if (iseven(i) == true)\n",
    "            γ[i] = 1.0; # positive preference for even indexed goods\n",
    "        else\n",
    "            γ[i] = -10.0; # negative preference for odd indexed goods\n",
    "        end\n",
    "        \n",
    "        σ[i] = 0.1; # uniform uncertainty for all goods, this can be adjusted based on the specific needs of the simulation\n",
    "        C[i] = 10.0 + 10.0 * (i - 1); # linearly increasing costs for goods, this can be customized as per the requirement\n",
    "    end\n",
    "\n",
    "    # build a context model with the reqired parameters -\n",
    "    context = build(MyBanditConsumerContextModel, (\n",
    "        γ = γ, # consumer preferences (unknown to bandits)\n",
    "        σ = σ, # noise in utility calculation (unknown to bandits)\n",
    "        B = B, # max budget (unknown to bandits)\n",
    "        C = C, # unit costs of goods (unknown to bandits)\n",
    "        λ = λ, # sensitivity to the budget\n",
    "        Z = Z, # noise model\n",
    "        m = K, # number of categories (this should match the number of arms in the algorithm)\n",
    "    )); # build the context\n",
    "\n",
    "    # return \n",
    "    context;\n",
    "end;"
   ]
  },
  {
   "cell_type": "markdown",
   "id": "50ddac09",
   "metadata": {},
   "source": [
    "## Task 3: Evaluation of Scenarios\n",
    "In this task, we'll run different the context models to evaluate how well our agent performs under different scenarios. In all cases, we will use the same bandit algorithm but vary the context model to see how it influences the agent's decisions and performance. \n",
    "\n",
    "We have already built all the context models, so let's run all three scenarios below. In each case [we call the `solve(...)` method](src/Bandit.jl) to simulate the agent's decision-making process over `T` rounds, given the `world(...)` function, and the context model. The [`solve(...)` method](src/Bandit.jl) returns the results of the simulation in the `results_case_*::Array{Float64,2}` array. The results array should be a $T\\times{N}$ array."
   ]
  },
  {
   "cell_type": "code",
   "execution_count": 44,
   "id": "67465fb7",
   "metadata": {},
   "outputs": [],
   "source": [
    "results_case_1 = solve(algorithm, T = T, world = world, context=simple_no_budget_context); # compute allocation for case 1\n",
    "results_case_2 = solve(algorithm, T = T, world = world, context=simple_with_budget_context); # compute allocation for case 2\n",
    "results_case_3 = solve(algorithm, T = T, world = world, context=mixed_with_budget_context); # compute allocation for case 3"
   ]
  },
  {
   "cell_type": "markdown",
   "id": "2e00fa9e",
   "metadata": {},
   "source": [
    "### Case 1: Unlimited Budget, Uniform Positive Sentiment\n",
    "In this case, we evaluate the agent's performance using the `simple_no_budget_context` model. This model assumes an unlimited budget and uniform positive sentiment across all goods."
   ]
  },
  {
   "cell_type": "code",
   "execution_count": 45,
   "id": "08260462",
   "metadata": {},
   "outputs": [
    {
     "name": "stdout",
     "output_type": "stream",
     "text": [
      "======== ========== ==========\n",
      " \u001b[1m  good \u001b[0m \u001b[1m purchase \u001b[0m \u001b[1m  reward \u001b[0m\n",
      " \u001b[90m Int64 \u001b[0m \u001b[90m   String \u001b[0m \u001b[90m Float64 \u001b[0m\n",
      "======== ========== ==========\n",
      "      1        Yes       1.0\n",
      "      2        Yes       1.0\n",
      "      3        Yes       1.0\n",
      "      4        Yes       1.0\n",
      "      5        Yes       1.0\n",
      "      6        Yes       1.0\n",
      "      7        Yes       1.0\n",
      "      8        Yes       1.0\n",
      "      9        Yes       1.0\n",
      "     10        Yes       1.0\n",
      "     11        Yes       1.0\n",
      "     12        Yes       1.0\n",
      "======== ========== ==========\n"
     ]
    }
   ],
   "source": [
    "table(results_case_1, algorithm, simple_no_budget_context) |> df -> pretty_table(df, tf = tf_simple)"
   ]
  },
  {
   "cell_type": "markdown",
   "id": "6dfb4b3e",
   "metadata": {},
   "source": [
    "How much did our agent spend, and how much benefit was gained? `Unhide` the code block below to see the results of the agent's performance under this scenario. "
   ]
  },
  {
   "cell_type": "code",
   "execution_count": 46,
   "id": "f513a14d",
   "metadata": {},
   "outputs": [
    {
     "name": "stdout",
     "output_type": "stream",
     "text": [
      "Case 1: Agent spent: 780.0 USD and rcvd 12.0 utils. ROI: 0.015384615384615385 util/USD\n"
     ]
    }
   ],
   "source": [
    "let\n",
    "\n",
    "    # initialiize -\n",
    "    results = results_case_1; # use results from case 1 for this example\n",
    "    context = simple_no_budget_context;\n",
    "    K = algorithm.K; # number of categories\n",
    "    n = algorithm.n; # recommended number of items to purchase in each category\n",
    "    γ = context.γ; # user preference for each good (unknown to bandits)\n",
    "    C = context.C; # unit costs of goods (unknown to bandits)\n",
    "\n",
    "    # compute the best collection of goods -\n",
    "    K = algorithm.K; # number of arms in the algorithm\n",
    "    N = 2^K; # number of possible goods combinations (2^K) - this is the total number of combinations of goods we can have \n",
    "\n",
    "    μ = zeros(Float64, N); # average reward for each possible goods combination\n",
    "    for a ∈ 1:N\n",
    "        μ[a] = filter(x -> x != 0.0, results[:,a]) |> x-> mean(x)\n",
    "\n",
    "        # fix NaN -\n",
    "        if (isnan(μ[a]) == true)\n",
    "            μ[a] = -Inf; # replace NaN with a big negative\n",
    "        end\n",
    "    end\n",
    "    î = argmax(μ); # compute the arm with best average reward\n",
    "    aₜ = digits(î, base=2, pad=K); # which goods do we select?\n",
    "\n",
    "    U = Array{Float64,1}(undef, K); # initialize the array to store the goods selected\n",
    "    for i ∈ 1:K\n",
    "       U[i] = aₜ[i]*n[i]*γ[i]; # store the goods selected in the array\n",
    "    end\n",
    "\n",
    "    spend = Array{Float64,1}(undef, K); # initialize the array to store the spend on each good\n",
    "    for i ∈ 1:K\n",
    "        # calculate the spend on each good based on the recommended quantity and unit cost\n",
    "        spend[i] = aₜ[i]*n[i] * C[i]; # total spend on each good\n",
    "    end\n",
    "\n",
    "    S̄ = sum(spend); # total spend for case 2\n",
    "    Ū = sum(U); # total utility for case 2\n",
    "    println(\"Case 1: Agent spent: $(S̄) USD and rcvd $(Ū) utils. ROI: $(Ū/S̄) util/USD\"); # print total spend for case 1\n",
    "    \n",
    "end;"
   ]
  },
  {
   "cell_type": "markdown",
   "id": "eaca50b4",
   "metadata": {},
   "source": [
    "#### Discussion\n",
    "__DQ1__: When I ran case 1 with `T = 2^14` the agent selected _all the items_ (you may have a different result?). What does this tell you about the agent's decision-making process under an unlimited budget and uniform positive sentiment? There is a somewhat subtle effect that is visible in this case, think about the ROI relative to the other cases, and what this result says about utility."
   ]
  },
  {
   "cell_type": "code",
   "execution_count": 47,
   "id": "75b8c919",
   "metadata": {},
   "outputs": [],
   "source": [
    "## Put your answer to DQ1 (either as a commented code cell, or as a markdown cell)"
   ]
  },
  {
   "cell_type": "code",
   "execution_count": 48,
   "id": "9d9badff",
   "metadata": {},
   "outputs": [],
   "source": [
    "did_I_answer_DQ1 = true; # TODO: Update this value {true | false} based on whether you answered DQ1 or not"
   ]
  },
  {
   "cell_type": "markdown",
   "id": "65ae3740",
   "metadata": {},
   "source": [
    "### Case 2: Limited Budget, Uniform Positive Sentiment\n",
    "In this case, we will evaluate the agent's performance using the `simple_with_budget_context` model. This model assumes a limited budget and uniform positive sentiment across all goods."
   ]
  },
  {
   "cell_type": "code",
   "execution_count": 49,
   "id": "108c1d01",
   "metadata": {},
   "outputs": [
    {
     "name": "stdout",
     "output_type": "stream",
     "text": [
      "======== ========== ==========\n",
      " \u001b[1m  good \u001b[0m \u001b[1m purchase \u001b[0m \u001b[1m  reward \u001b[0m\n",
      " \u001b[90m Int64 \u001b[0m \u001b[90m   String \u001b[0m \u001b[90m Float64 \u001b[0m\n",
      "======== ========== ==========\n",
      "      1        Yes       1.0\n",
      "      2        Yes       1.0\n",
      "      3         No       0.0\n",
      "      4         No       0.0\n",
      "      5         No       0.0\n",
      "      6         No       0.0\n",
      "      7        Yes       1.0\n",
      "      8         No       0.0\n",
      "      9         No       0.0\n",
      "     10         No       0.0\n",
      "     11         No       0.0\n",
      "     12         No       0.0\n",
      "======== ========== ==========\n"
     ]
    }
   ],
   "source": [
    "table(results_case_2, algorithm, simple_with_budget_context) |> df -> pretty_table(df, tf = tf_simple) "
   ]
  },
  {
   "cell_type": "markdown",
   "id": "a9383f91",
   "metadata": {},
   "source": [
    "How much did our agent spend, and how much benefit was gained? `Unhide` the code block below to see the results of the agent's performance under this scenario. "
   ]
  },
  {
   "cell_type": "code",
   "execution_count": 50,
   "id": "2af1c911",
   "metadata": {},
   "outputs": [
    {
     "name": "stdout",
     "output_type": "stream",
     "text": [
      "Case 2: Agent spent: 100.0 USD and rcvd 3.0 utils. ROI: 0.03 util/USD\n"
     ]
    }
   ],
   "source": [
    "let\n",
    "\n",
    "    # initialiize -\n",
    "    results = results_case_2; # use results from case 1 for this example\n",
    "    context = simple_no_budget_context;\n",
    "    K = algorithm.K; # number of categories\n",
    "    n = algorithm.n; # recommended number of items to purchase in each category\n",
    "    γ = context.γ; # user preference for each good (unknown to bandits)\n",
    "    C = context.C; # unit costs of goods (unknown to bandits)\n",
    "\n",
    "    # compute the best collection of goods -\n",
    "    K = algorithm.K; # number of arms in the algorithm\n",
    "    N = 2^K; # number of possible goods combinations (2^K) - this is the total number of combinations of goods we can have \n",
    "\n",
    "    μ = zeros(Float64, N); # average reward for each possible goods combination\n",
    "    for a ∈ 1:N\n",
    "        μ[a] = filter(x -> x != 0.0, results[:,a]) |> x-> mean(x)\n",
    "\n",
    "        # fix NaN -\n",
    "        if (isnan(μ[a]) == true)\n",
    "            μ[a] = -Inf; # replace NaN with a big negative\n",
    "        end\n",
    "    end\n",
    "    î = argmax(μ); # compute the arm with best average reward\n",
    "    aₜ = digits(î, base=2, pad=K); # which goods do we select?\n",
    "\n",
    "    U = Array{Float64,1}(undef, K); # initialize the array to store the goods selected\n",
    "    for i ∈ 1:K\n",
    "       U[i] = aₜ[i]*n[i]*γ[i]; # store the goods selected in the array\n",
    "    end\n",
    "\n",
    "    spend = Array{Float64,1}(undef, K); # initialize the array to store the spend on each good\n",
    "    for i ∈ 1:K\n",
    "        # calculate the spend on each good based on the recommended quantity and unit cost\n",
    "        spend[i] = aₜ[i]*n[i] * C[i]; # total spend on each good\n",
    "    end\n",
    "\n",
    "    S̄ = sum(spend); # total spend for case 2\n",
    "    Ū = sum(U); # total utility for case 2\n",
    "    println(\"Case 2: Agent spent: $(S̄) USD and rcvd $(Ū) utils. ROI: $(Ū/S̄) util/USD\"); # print total spend for case 2\n",
    "end;"
   ]
  },
  {
   "cell_type": "markdown",
   "id": "62d4abb4",
   "metadata": {},
   "source": [
    "#### Discussion\n",
    "__DQ2__: In the presence of a budget constraint, we see that the agent's behavior changes. When I ran this, I see a few items were selected, but not all. What does this tell you about the trade-off between utility and budget constraints? Why are certain items selected, while others are not?"
   ]
  },
  {
   "cell_type": "code",
   "execution_count": null,
   "id": "a9ef66d9",
   "metadata": {},
   "outputs": [],
   "source": [
    "## Put your answer to DQ2 (either as a commented code cell, or as a markdown cell)"
   ]
  },
  {
   "cell_type": "markdown",
   "id": "05190094",
   "metadata": {},
   "source": [
    "### Case 3: Limited Budget, Mixed Sentiment\n",
    "In this case, we will evaluate the agent's performance using the `mixed_with_budget_contextt` model. This model assumes a limited budget and mixed positive and negative sentiment across all goods."
   ]
  },
  {
   "cell_type": "code",
   "execution_count": 51,
   "id": "9d9ee44a",
   "metadata": {},
   "outputs": [
    {
     "name": "stdout",
     "output_type": "stream",
     "text": [
      "======== ========== ==========\n",
      " \u001b[1m  good \u001b[0m \u001b[1m purchase \u001b[0m \u001b[1m  reward \u001b[0m\n",
      " \u001b[90m Int64 \u001b[0m \u001b[90m   String \u001b[0m \u001b[90m Float64 \u001b[0m\n",
      "======== ========== ==========\n",
      "      1         No      -0.0\n",
      "      2        Yes       1.0\n",
      "      3         No      -0.0\n",
      "      4        Yes       1.0\n",
      "      5         No      -0.0\n",
      "      6         No       0.0\n",
      "      7         No      -0.0\n",
      "      8         No       0.0\n",
      "      9         No      -0.0\n",
      "     10         No       0.0\n",
      "     11         No      -0.0\n",
      "     12         No       0.0\n",
      "======== ========== ==========\n"
     ]
    }
   ],
   "source": [
    "table(results_case_3, algorithm, mixed_with_budget_context) |> df -> pretty_table(df, tf = tf_simple) "
   ]
  },
  {
   "cell_type": "code",
   "execution_count": 52,
   "id": "69809e3b",
   "metadata": {},
   "outputs": [
    {
     "name": "stdout",
     "output_type": "stream",
     "text": [
      "Case 3: Agent spent: 60.0 USD and rcvd 2.0 utils. ROI: 0.03333333333333333 util/USD\n"
     ]
    }
   ],
   "source": [
    "let\n",
    "\n",
    "    # initialiize -\n",
    "    results = results_case_3; # use results from case 1 for this example\n",
    "    context = simple_no_budget_context;\n",
    "    K = algorithm.K; # number of categories\n",
    "    n = algorithm.n; # recommended number of items to purchase in each category\n",
    "    γ = context.γ; # user preference for each good (unknown to bandits)\n",
    "    C = context.C; # unit costs of goods (unknown to bandits)\n",
    "\n",
    "    # compute the best collection of goods -\n",
    "    K = algorithm.K; # number of arms in the algorithm\n",
    "    N = 2^K; # number of possible goods combinations (2^K) - this is the total number of combinations of goods we can have \n",
    "\n",
    "    μ = zeros(Float64, N); # average reward for each possible goods combination\n",
    "    for a ∈ 1:N\n",
    "        μ[a] = filter(x -> x != 0.0, results[:,a]) |> x-> mean(x)\n",
    "\n",
    "        # fix NaN -\n",
    "        if (isnan(μ[a]) == true)\n",
    "            μ[a] = -Inf; # replace NaN with a big negative\n",
    "        end\n",
    "    end\n",
    "    î = argmax(μ); # compute the arm with best average reward\n",
    "    aₜ = digits(î, base=2, pad=K); # which goods do we select?\n",
    "\n",
    "    U = Array{Float64,1}(undef, K); # initialize the array to store the goods selected\n",
    "    for i ∈ 1:K\n",
    "       U[i] = aₜ[i]*n[i]*γ[i]; # store the goods selected in the array\n",
    "    end\n",
    "\n",
    "    spend = Array{Float64,1}(undef, K); # initialize the array to store the spend on each good\n",
    "    for i ∈ 1:K\n",
    "        # calculate the spend on each good based on the recommended quantity and unit cost\n",
    "        spend[i] = aₜ[i]*n[i] * C[i]; # total spend on each good\n",
    "    end\n",
    "\n",
    "    S̄ = sum(spend); # total spend for case 2\n",
    "    Ū = sum(U); # total utility for case 2\n",
    "    println(\"Case 3: Agent spent: $(S̄) USD and rcvd $(Ū) utils. ROI: $(Ū/S̄) util/USD\"); # print total spend for case 2\n",
    "end;"
   ]
  },
  {
   "cell_type": "markdown",
   "id": "06d8f475",
   "metadata": {},
   "source": [
    "## Tests\n",
    "In the code block below, we check some values in your notebook and give you feedback on which items are correct or different. `Unhide` the code block below (if you are curious) about how we implemented the tests and what we are testing."
   ]
  },
  {
   "cell_type": "code",
   "execution_count": 53,
   "id": "d33a68e6",
   "metadata": {},
   "outputs": [
    {
     "name": "stdout",
     "output_type": "stream",
     "text": [
      "\u001b[0m\u001b[1mTest Summary:                           | \u001b[22m\u001b[32m\u001b[1mPass  \u001b[22m\u001b[39m\u001b[36m\u001b[1mTotal  \u001b[22m\u001b[39m\u001b[0m\u001b[1mTime\u001b[22m\n",
      "CHEME 5820 Problem Set 4 Test Suite     | \u001b[32m  12  \u001b[39m\u001b[36m   12  \u001b[39m\u001b[0m0.0s\n",
      "  Task 1: Setup, Prerequisites and Data | \u001b[32m   3  \u001b[39m\u001b[36m    3  \u001b[39m\u001b[0m0.0s\n",
      "  Task 2: Context models                | \u001b[32m   6  \u001b[39m\u001b[36m    6  \u001b[39m\u001b[0m0.0s\n",
      "  Task 3: Scenarios                     | \u001b[32m   3  \u001b[39m\u001b[36m    3  \u001b[39m\u001b[0m0.0s\n"
     ]
    }
   ],
   "source": [
    "let \n",
    "    @testset verbose = true \"CHEME 5820 Problem Set 4 Test Suite\" begin\n",
    "\n",
    "        @testset \"Task 1: Setup, Prerequisites and Data\" begin\n",
    "            @test _DID_INCLUDE_FILE_GET_CALLED == true\n",
    "            @test isdefined(Main, :world) == true\n",
    "            @test isnothing(algorithm) == false\n",
    "        end\n",
    "\n",
    "        @testset \"Task 2: Context models\" begin\n",
    "            @test isnothing(simple_no_budget_context) == false # Test for simple no budget context\n",
    "            @test isnothing(simple_with_budget_context) == false # Test for simple with budget context\n",
    "            @test isnothing(mixed_with_budget_context) == false # Test for mixed context with budget\n",
    "            @test simple_no_budget_context.λ == 0; # Check that the no-budget context has λ = 0\n",
    "            @test simple_with_budget_context.λ > 0; # Check that the with-budget context has λ > 0\n",
    "            @test mixed_with_budget_context.λ > 0; # Check that the mixed context has λ > 0\n",
    "        end\n",
    "\n",
    "        @testset \"Task 3: Scenarios\" begin\n",
    "            @test isempty(results_case_1) == false # Test for results from case 1\n",
    "            @test isempty(results_case_2) == false # Test for results from case 2\n",
    "            @test isempty(results_case_3) == false # Test for results from case 3\n",
    "        end\n",
    "\n",
    "    end\n",
    "end;"
   ]
  },
  {
   "cell_type": "code",
   "execution_count": 54,
   "id": "12d7081c",
   "metadata": {},
   "outputs": [],
   "source": []
  }
 ],
 "metadata": {
  "kernelspec": {
   "display_name": "Julia 1.11.4",
   "language": "julia",
   "name": "julia-1.11"
  },
  "language_info": {
   "file_extension": ".jl",
   "mimetype": "application/julia",
   "name": "julia",
   "version": "1.11.4"
  }
 },
 "nbformat": 4,
 "nbformat_minor": 5
}
