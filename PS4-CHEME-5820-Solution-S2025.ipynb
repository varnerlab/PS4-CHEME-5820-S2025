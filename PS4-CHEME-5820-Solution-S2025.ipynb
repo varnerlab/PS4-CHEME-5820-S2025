{
 "cells": [
  {
   "cell_type": "markdown",
   "id": "ad875215",
   "metadata": {},
   "source": [
    "# PS4: Let's build a Personal Shopper\n",
    "In this problem set, we'll build a simple personal shopper program that helps users find items they might want to buy based on their preferences. The program will allow users to input their preferences and then suggest items from a predefined list that maximize their satisfaction (measured using a utility function) based on those preferences, subjet to a budget constraint."
   ]
  },
  {
   "cell_type": "markdown",
   "id": "458ab823",
   "metadata": {},
   "source": [
    "## Task 1: Setup, Data, and Prerequisites\n",
    "We set up the computational environment by including the `Include.jl` file, loading any needed resources, such as sample datasets, and setting up any required constants. \n",
    "* The `Include.jl` file also loads external packages, various functions that we will use in the exercise, and custom types to model the components of our problem. It checks for a `Manifest.toml` file; if it finds one, packages are loaded. Other packages are downloaded and then loaded."
   ]
  },
  {
   "cell_type": "code",
   "execution_count": 1,
   "id": "5bf46373",
   "metadata": {},
   "outputs": [],
   "source": [
    "include(\"Include.jl\"); # This will load necessary packages and functions"
   ]
  },
  {
   "cell_type": "markdown",
   "id": "461fa67d",
   "metadata": {},
   "source": [
    "First, let's build the `world(...)` function. \n",
    "* The `world(...)` function takes the $m$-dimensional action vector `a::Array{Int64,1}` where the elements of `a::Array{Int64,1}` are the indexes of the goods chosen from each categories, the amount of each good selected from each category from our agent is in the `n::Dict{Int,Array{Float64,1}}` dictionary, and returns the reward (utility) $r\\sim\\mathcal{D}_{a}$. associated with selecting this action. "
   ]
  },
  {
   "cell_type": "code",
   "execution_count": 2,
   "id": "e3c90e73",
   "metadata": {},
   "outputs": [],
   "source": [
    "function world(a::Vector{Int64}, n::Array{Float64,1}, context::MyBanditConsumerContextModel)::Float64\n",
    "\n",
    "    # initialize -\n",
    "    γ = context.γ; # consumer preferences (unknown to bandits)\n",
    "    σ = context.σ; # noise in utility calculation (unknown to bandits)\n",
    "    B = context.B; # max budget (unknown to bandits)\n",
    "    C = context.C; # unit costs of goods (unknown to bandits)\n",
    "    λ = context.λ; # sensitivity to the budget\n",
    "    Z = context.Z; # noise model\n",
    "    number_of_goods = context.m; # number of categories\n",
    "\n",
    "    # compute the reward for this choice -\n",
    "    Ū = 1.0;\n",
    "    BC = 0.0;\n",
    "    for i ∈ 1:number_of_goods\n",
    "        \n",
    "        # what action is being taken in this category?\n",
    "        aᵢ = a[i]; # this is which good to purchase in category i -\n",
    "        if (aᵢ == 0)\n",
    "            # if aᵢ is 0, it means no good was chosen in this category, \n",
    "            # hence we should skip this category in the utility calculation\n",
    "            continue; \n",
    "        end\n",
    "\n",
    "        nᵢ = n[i]; # this is the quantity purchased of good aᵢ in category i\n",
    "        Cᵢ = C[i]; # cost of chosen good in category i\n",
    "        γᵢ = γ[i]; # preference of good in category i\n",
    "        σᵢ = σ[i]; # standard dev for good i\n",
    "   \n",
    "        # update the utility -\n",
    "        Ū += γᵢ*(nᵢ + σᵢ*rand(Z)); # compute the utility for this good, with noise\n",
    "        \n",
    "        # constraints and noise \n",
    "        BC += nᵢ*Cᵢ; # compute the budget constraint -\n",
    "    end\n",
    "\n",
    "    # compute the budget constraint violation -\n",
    "    U = Ū - λ*max(0.0, (BC - B))^2; # use a penalty method to capture budget constraint\n",
    "\n",
    "    # return the reward -\n",
    "    return U;\n",
    "end;"
   ]
  },
  {
   "cell_type": "markdown",
   "id": "501f330d",
   "metadata": {},
   "source": [
    "Next, let's build an algorithm model that we'll use to reason about the world, i.e., a model of our agent's decision making process.  we've modified the $\\epsilon$-greedy algorithm to work with our contextual category-based bandit problem. The algorithm will now take into account the context provided by [the `MyBanditConsumerContextModel` model](src/Types.jl) and category-based actions when selecting actions.\n",
    "\n",
    "#### Epsilon-Greedy with Categories Algorithm\n",
    "In the _epsilon-greedy_ algorithm, the agent chooses the best arm with probability $1-\\epsilon$ and a random arm with probability $\\epsilon$. This approach balances exploration and exploitation by allowing the agent to explore different arms while also exploiting the best-known arm based on past rewards. The parameter $\\epsilon$ controls the exploration rate: a higher value means more exploration, while a lower value means more exploitation.\n",
    "\n",
    "* While [Slivkins](https://arxiv.org/abs/1904.07272) doesn't give a reference for the $\\epsilon$-greedy algorithm, other sources point to (at least in part) to [Thompson and Thompson sampling, proposed in 1933 in the context of drug trials](https://arxiv.org/abs/1707.02038). Thus, the $\\epsilon$-greedy algorithm, considered a classic algorithm in the multi-armed bandit literature. The algorithm is simple yet effective, making it a popular choice for many practical applications.\n",
    "\n",
    "The agent has $K$ arms (choices), $\\mathcal{A} = \\left\\{1,2,\\dots,K\\right\\}$, where each arm encosed a _binary vector_ which describes the _basket_ of goods chosen by the agent, \n",
    "and the total number of rounds is $T$. The agent uses the following algorithm to choose which arms to pull (which action to take) during each round:\n",
    "\n",
    "For $t = 1,2,\\dots,T$:\n",
    "1. _Initialize_: Roll a random number $p\\in\\left[0,1\\right]$ and compute a threshold $\\epsilon_{t}\\sim{t}^{-1/3}$.\n",
    "2. _Exploration_: If $p\\leq\\epsilon_{t}$, choose a random (uniform) arm $a_{t}\\in\\mathcal{A}$. Execute the action $a_{t}$ and receive a reward $r_{t}$ from the _adversary_ (nature). \n",
    "3. _Exploitation_: Else if $p>\\epsilon_{t}$, choose action $a^{\\star}$, the action with the highest average reward so far. Execute the action $a^{\\star}_{t}$ and recieve a reward $r_{t}$ from the _adversary_ (nature).\n",
    "4. Update list of rewards for $a_{t}\\in\\mathcal{A}$\n",
    "\n",
    "__Theorem__: The epsilon-greedy algowithm with exploration probability $\\epsilon_{t}={t^{-1/3}}\\cdot\\left(K\\cdot\\log(t)\\right)^{1/3}$ achives a regret bound of $\\mathbb{E}\\left[R(t)\\right]\\leq{t}^{2/3}\\cdot\\left(K\\cdot\\log(t)\\right)^{1/3}$ for each round $t$."
   ]
  },
  {
   "cell_type": "markdown",
   "id": "716c2780",
   "metadata": {},
   "source": [
    "Let's build [a `MyEpsilonGreedyAlgorithmModel` instance](src/Types.jl) which encapsulates the $\\epsilon$-greedy logic that has been modified to work with categories. To contstruct this type, we [use a custom `build(...)` method](src/Factory.jl) that takes the arms dictionary `K::Dict{Int64,Int64}` and the items dictionary `n::Dict{Int64, Array{Float64,1}}` and returns an algorithmn model in the `algorithm::MyEpsilonGreedyAlgorithmModel` variable."
   ]
  },
  {
   "cell_type": "code",
   "execution_count": 3,
   "id": "94660951",
   "metadata": {},
   "outputs": [],
   "source": [
    "algorithm = let\n",
    "\n",
    "    # initialize -\n",
    "    K = 12; # suppose we have 12 possible goods that we can choose from\n",
    "    n = ones(Float64, K); # for now, let's assume that we purchase a single unit of each good in each category (we can change this later)\n",
    "    \n",
    "    # build model -\n",
    "    algorithm = build(MyEpsilonGreedyAlgorithmModel, (\n",
    "        K = K, # arms dictionary\n",
    "        n = n, # items dictionary\n",
    "    ));\n",
    "\n",
    "    # return the algorithm -\n",
    "    algorithm;\n",
    "end;"
   ]
  },
  {
   "cell_type": "markdown",
   "id": "e34dc0e9",
   "metadata": {},
   "source": [
    "__Constants__: Let's set some constants we'll use in the subsequent tasks. See the comment beside the value for a description of what it is, its permissible values, etc."
   ]
  },
  {
   "cell_type": "code",
   "execution_count": null,
   "id": "a6c80c38",
   "metadata": {},
   "outputs": [],
   "source": [
    "T = 10; # number of rounds for each decision task\n",
    "B = 100.0; # Budget for shopper"
   ]
  },
  {
   "cell_type": "markdown",
   "id": "bb84ef94",
   "metadata": {},
   "source": [
    "## Task 2: Build the Context Models\n",
    "In this task, we will build several models of the contextual information that will be used to inform the agent's recomendations. These models, which are [instances of the `MyBanditConsumerContextModel` type](src/Types.jl) holds various parameters that will be used in the `world(...)` funtion that we developed above. \n",
    "* _Hmmm. Why use a different model for contextual data_? We use a separate model for the contextual information because it allows us to encapsulate all the relevant parameters and settings in one place. This makes it easier to manage and modify the parameters as needed, without having to change the core logic of the `world(...)` function. Additionally, it allows us to easily pass around context models to other parts of our codebase that may need it.\n",
    "* _What does this represent_? The contextual information in the `MyBanditConsumerContextModel` represents the parameters that will be used to score the utility of the goods chosen by the agent. This includes user sentiment parameters, budget constraints, and other relevant information that will help the agent make informed decisions about which goods to recommend.\n",
    "\n",
    "Let's build the following contextual models:\n",
    "* __Case 1: Unlimited budget, uniform positive sentiment__: This model assumes that the consumer has an unlimited budget ($\\lambda = 0$) and uniform positive sentiment across all goods. This means that the consumer is equally likely to choose any good in each category, and there are no constraints on the amount of each good that can be selected. \n",
    "* __Case 2: Limited budget, positive sentiment__: This model assumes that the consumer has a limited budget $\\lambda>0$ and positive sentiment (but not neccesarily uniform) towards goods. This means that the consumer is more likely to choose goods that they have a positive sentiment towards, and there are constraints on the amount of each good that can be selected based on the budget.\n",
    "* __Case 3: Limited budget, mixed sentiment__: This model assumes that the consumer has a limited budget $\\lambda>0$ and mixed sentiment towards goods. This means that some goods may have positive sentiment (i.e., they are preferred), while others may have negative sentiment (i.e., they are not preferred). The agent must balance the positive and negative sentiments when making recommendations, and there are constraints on the amount of each good that can be selected based on the budget."
   ]
  },
  {
   "cell_type": "code",
   "execution_count": 5,
   "id": "28bf1f19",
   "metadata": {},
   "outputs": [],
   "source": [
    "simple_no_budget_context = let\n",
    "\n",
    "    # initialize -\n",
    "    K = algorithm.K; # number of arms in the algorithm, this should match the number of goods in the context model\n",
    "    γ = Array{Float64,1}(undef, K); # consumer preferences (unknown to bandits)\n",
    "    σ = Array{Float64,1}(undef, K); # noise in utility calculation (unknown to bandits)\n",
    "    C = Array{Float64,1}(undef, K); # unit costs of goods (unknown to bandits)\n",
    "    Z = Normal(0,1); # use a standard normal distribution for the noise model, this can be changed to any distribution as required\n",
    "    λ = 0.0; # sensitivity to the budget constraint λ ≥ 0. If zero, then no penalty for budget constraint violation.\n",
    "\n",
    "    # set the parameters -\n",
    "    # preferences: If all γ[i] are equal to 1.0, then the bandit will be indifferent to the goods in each category.\n",
    "    for i ∈ 1:K\n",
    "        # Assigning values for γ, σ, and C for each good in the context model\n",
    "        # For simplicity, let's assume we have K goods with equal preference\n",
    "        # This can be customized as per the requirement of the simulation\n",
    "        γ[i] = 1.0; # uniform preference for all goods\n",
    "        σ[i] = 0.1; # uniform uncertainty for all goods, this can be adjusted based on the specific needs of the simulation\n",
    "        C[i] = 10.0 + 10.0 * (i - 1); # linearly increasing costs for goods, this can be customized as per the requirement\n",
    "    end\n",
    "\n",
    "    # build a context model with the reqired parameters -\n",
    "    context = build(MyBanditConsumerContextModel, (\n",
    "        γ = γ, # consumer preferences (unknown to bandits)\n",
    "        σ = σ, # noise in utility calculation (unknown to bandits)\n",
    "        B = B, # max budget (unknown to bandits)\n",
    "        C = C, # unit costs of goods (unknown to bandits)\n",
    "        λ = λ, # sensitivity to the budget\n",
    "        Z = Z, # noise model\n",
    "        m = K, # number of categories (this should match the number of arms in the algorithm)\n",
    "    )); # build the context\n",
    "\n",
    "    # return \n",
    "    context;\n",
    "end;"
   ]
  },
  {
   "cell_type": "markdown",
   "id": "50ddac09",
   "metadata": {},
   "source": [
    "## Task 3: Evaluation of Scenarios\n",
    "In this task, we'll run different context models to evaluate how well our agent performs under different scenarios. This will help us understand how the choice of context model affects the agent's performance and the regret it incurs over time. \n",
    "\n",
    "In all cases, we will use the same agent and bandit algorithm but vary the context model to see how it influences the agent's decisions and performance. We'll use the $\\epsilon$-greedy algorithm to estimate an optimal policy for the agent based on the contextual information provided by the `MyBanditConsumerContextModel`."
   ]
  },
  {
   "cell_type": "code",
   "execution_count": null,
   "id": "81babe63",
   "metadata": {},
   "outputs": [],
   "source": [
    "results_case_1 = solve(algorithm, T = T, world = world, context=simple_no_budget_context);"
   ]
  },
  {
   "cell_type": "code",
   "execution_count": null,
   "id": "50240c05",
   "metadata": {},
   "outputs": [],
   "source": []
  }
 ],
 "metadata": {
  "kernelspec": {
   "display_name": "Julia 1.11.4",
   "language": "julia",
   "name": "julia-1.11"
  },
  "language_info": {
   "file_extension": ".jl",
   "mimetype": "application/julia",
   "name": "julia",
   "version": "1.11.4"
  }
 },
 "nbformat": 4,
 "nbformat_minor": 5
}
